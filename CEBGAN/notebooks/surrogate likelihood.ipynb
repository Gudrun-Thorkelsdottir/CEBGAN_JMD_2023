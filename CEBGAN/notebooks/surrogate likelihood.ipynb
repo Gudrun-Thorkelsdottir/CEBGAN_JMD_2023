{
 "cells": [
  {
   "cell_type": "code",
   "execution_count": null,
   "source": [
    "import torch\r\n",
    "import numpy as np\r\n",
    "import matplotlib.pyplot as plt\r\n",
    "import os"
   ],
   "outputs": [],
   "metadata": {}
  },
  {
   "cell_type": "code",
   "execution_count": null,
   "source": [
    "import sys; sys.path.append(\"../src\")"
   ],
   "outputs": [],
   "metadata": {}
  },
  {
   "cell_type": "code",
   "execution_count": null,
   "source": [
    "from models.cgans import AirfoilAoACEGAN, AirfoilAoAGenerator\r\n",
    "from train_final_cebgan import read_configs, assemble_new_gan\r\n",
    "from utils.dataloader import AirfoilDataset, NoiseGenerator"
   ],
   "outputs": [],
   "metadata": {}
  },
  {
   "cell_type": "code",
   "execution_count": null,
   "source": [
    "from torch.utils.data import DataLoader"
   ],
   "outputs": [],
   "metadata": {}
  },
  {
   "cell_type": "markdown",
   "source": [
    "# Load Trained CEBGAN"
   ],
   "metadata": {}
  },
  {
   "cell_type": "code",
   "execution_count": null,
   "source": [
    "device = torch.device('cuda' if torch.cuda.is_available() else 'cpu')\r\n",
    "\r\n",
    "save_dir = '../saves/final/'\r\n",
    "checkpoint = 'cebgan14999.tar'\r\n",
    "base_dir = \"../src/\"\r\n",
    "dis_cfg, gen_cfg, egan_cfg, cz, noise_type = read_configs('cebgan', base_dir=base_dir)"
   ],
   "outputs": [],
   "metadata": {}
  },
  {
   "cell_type": "code",
   "execution_count": null,
   "source": [
    "batch = 4096"
   ],
   "outputs": [],
   "metadata": {}
  },
  {
   "cell_type": "code",
   "execution_count": null,
   "source": [
    "egan = assemble_new_gan(dis_cfg, gen_cfg, egan_cfg, device=device)\r\n",
    "egan.load(os.path.join(save_dir, checkpoint), train_mode=False)"
   ],
   "outputs": [],
   "metadata": {}
  },
  {
   "cell_type": "code",
   "execution_count": null,
   "source": [
    "### LOAD TEST DATA ###\r\n",
    "device = torch.device('cuda' if torch.cuda.is_available() else 'cpu')\r\n",
    "\r\n",
    "inp_paras = np.load('../data/inp_paras_995.npy').astype(np.float32)\r\n",
    "mean_std = (inp_paras.mean(0), inp_paras.std(0))"
   ],
   "outputs": [],
   "metadata": {}
  },
  {
   "cell_type": "code",
   "execution_count": null,
   "source": [
    "noise_gen = NoiseGenerator(batch, sizes=cz, device=device, noise_type=noise_type, output_prob=True)"
   ],
   "outputs": [],
   "metadata": {}
  },
  {
   "cell_type": "markdown",
   "source": [
    "# Test SLL on Predictions\n",
    "Correlation between Surrogate Log Likelihood and Airfoil Performance\n",
    "## Surrogate Log Likelihood"
   ],
   "metadata": {}
  },
  {
   "cell_type": "code",
   "execution_count": null,
   "source": [
    "inp_paras_org = np.load('../data/inp_paras_347.npy')\r\n",
    "inp_paras_250 = np.load('../data/inp_paras_250.npy')"
   ],
   "outputs": [],
   "metadata": {}
  },
  {
   "cell_type": "code",
   "execution_count": null,
   "source": [
    "index = []\r\n",
    "for each in inp_paras_250:\r\n",
    "    index.append(np.where((inp_paras_org == each).prod(-1)))\r\n",
    "index = np.concatenate(index).squeeze()\r\n",
    "print(index.shape)"
   ],
   "outputs": [],
   "metadata": {}
  },
  {
   "cell_type": "code",
   "execution_count": null,
   "source": [
    "airfoils_pred = np.load('../data/pred_cebgan/batch/new/airfoils_pred.npy')[index]\r\n",
    "aoas_pred = np.load('../data/pred_cebgan/batch/new/aoas_pred.npy')[index]\r\n",
    "inp_paras_pred = np.repeat(np.expand_dims(np.load('../data/inp_paras_250.npy'), 1), 10, axis=1)"
   ],
   "outputs": [],
   "metadata": {}
  },
  {
   "cell_type": "code",
   "execution_count": null,
   "source": [
    "predictions = AirfoilDataset(\r\n",
    "    inp_paras_pred.reshape(-1, 3),\r\n",
    "    airfoils_pred.reshape(-1, 192, 2),\r\n",
    "    aoas_pred.reshape(-1, 1),\r\n",
    "    inp_mean_std=mean_std, device=device)\r\n",
    "pred_dataloader = DataLoader(predictions, batch_size=1, shuffle=False)"
   ],
   "outputs": [],
   "metadata": {}
  },
  {
   "cell_type": "code",
   "execution_count": null,
   "source": [
    "ll = egan.surrogate_ll(pred_dataloader, noise_gen).cpu().detach().numpy()"
   ],
   "outputs": [],
   "metadata": {}
  },
  {
   "cell_type": "markdown",
   "source": [
    "## Performance Data"
   ],
   "metadata": {}
  },
  {
   "cell_type": "code",
   "execution_count": null,
   "source": [
    "ll_pred = ll.reshape(250, -1)"
   ],
   "outputs": [],
   "metadata": {}
  },
  {
   "cell_type": "code",
   "execution_count": null,
   "source": [
    "rs_s = [np.load('../results/efys_vad_cebgan_mul{}.npy'.format(i+1)) for i in range(10)]\r\n",
    "rs = np.hstack(rs_s)"
   ],
   "outputs": [],
   "metadata": {}
  },
  {
   "cell_type": "code",
   "execution_count": null,
   "source": [
    "plt.hist(ll_pred.reshape(-1), bins=30)\r\n",
    "plt.show()"
   ],
   "outputs": [],
   "metadata": {}
  },
  {
   "cell_type": "code",
   "execution_count": null,
   "source": [
    "plt.hist(rs.reshape(-1), bins=20, range=[0, 2000])\r\n",
    "plt.show()"
   ],
   "outputs": [],
   "metadata": {}
  },
  {
   "cell_type": "markdown",
   "source": [
    "## Evaluate Correlation Coefficient"
   ],
   "metadata": {}
  },
  {
   "cell_type": "code",
   "execution_count": null,
   "source": [
    "cre = []\r\n",
    "for l, r in zip(ll_pred, rs):\r\n",
    "    cre.append(np.corrcoef(l[r>0], r[r>0])[0,1])"
   ],
   "outputs": [],
   "metadata": {}
  },
  {
   "cell_type": "code",
   "execution_count": null,
   "source": [
    "plt.hist(cre, range=(-1., 1.), bins=16)\r\n",
    "plt.title('Correlation between SLL and $C_l/C_d$', fontsize='large')\r\n",
    "plt.xlabel('Pearson Correlation Coefficient')\r\n",
    "plt.ylabel('Number of Trials')\r\n",
    "plt.savefig('cor.svg')\r\n",
    "plt.show()"
   ],
   "outputs": [],
   "metadata": {}
  },
  {
   "cell_type": "code",
   "execution_count": null,
   "source": [
    "for i in range(6):\r\n",
    "    print((np.array(cre) >= i*0.1).sum() / 250)"
   ],
   "outputs": [],
   "metadata": {}
  },
  {
   "cell_type": "markdown",
   "source": [
    "# Scatter with Normalization"
   ],
   "metadata": {}
  },
  {
   "cell_type": "code",
   "execution_count": null,
   "source": [
    "def normalize(x):\r\n",
    "    mean = np.mean(x, axis=1, keepdims=True)\r\n",
    "    std = np.std(x, axis=1, keepdims=True)\r\n",
    "    return (x - mean) / std"
   ],
   "outputs": [],
   "metadata": {}
  },
  {
   "cell_type": "code",
   "execution_count": null,
   "source": [
    "sll_n = normalize(ll_pred)\r\n",
    "prf_n = normalize(rs)"
   ],
   "outputs": [],
   "metadata": {}
  },
  {
   "cell_type": "code",
   "execution_count": null,
   "source": [
    "for i in range(250):\r\n",
    "    plt.scatter(sll_n[i], prf_n[i], c='black', s=10, alpha=0.4)\r\n",
    "plt.title('Standardized SLL vs Standardized $C_l/C_d$', fontsize='large')\r\n",
    "plt.xlabel('Standardized Surrogate Log Likelihood') \r\n",
    "plt.ylabel('Standardized $C_l/C_d$') \r\n",
    "plt.plot([-3.5, 3.5],[-3.5, 3.5], 'r--')\r\n",
    "plt.xlim(-3.5, 3.5)\r\n",
    "plt.ylim(-3.5, 3.5)\r\n",
    "plt.gca().set_aspect('equal', adjustable='box')\r\n",
    "plt.savefig('scatter.svg')\r\n",
    "plt.show()\r\n"
   ],
   "outputs": [],
   "metadata": {}
  }
 ],
 "metadata": {
  "kernelspec": {
   "name": "python3",
   "display_name": "Python 3.7.10 64-bit ('base': conda)"
  },
  "language_info": {
   "codemirror_mode": {
    "name": "ipython",
    "version": 3
   },
   "file_extension": ".py",
   "mimetype": "text/x-python",
   "name": "python",
   "nbconvert_exporter": "python",
   "pygments_lexer": "ipython3",
   "version": "3.7.10"
  },
  "interpreter": {
   "hash": "b3ba2566441a7c06988d0923437866b63cedc61552a5af99d1f4fb67d367b25f"
  }
 },
 "nbformat": 4,
 "nbformat_minor": 2
}